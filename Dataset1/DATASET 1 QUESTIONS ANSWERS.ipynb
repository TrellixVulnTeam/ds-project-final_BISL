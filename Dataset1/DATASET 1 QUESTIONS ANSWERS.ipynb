{
 "cells": [
  {
   "cell_type": "code",
   "execution_count": null,
   "id": "1353fb42",
   "metadata": {},
   "outputs": [],
   "source": [
    "name1: \"Muhammad Haziq Faiz Bin Mohd Ripin\"\n",
    "id1: \"1201302740\""
   ]
  },
  {
   "cell_type": "markdown",
   "id": "11b1aec3",
   "metadata": {},
   "source": [
    "## “Which wealth quintile has the highest completion rate for primary education in each country?”"
   ]
  },
  {
   "cell_type": "markdown",
   "id": "0cd40332",
   "metadata": {},
   "source": [
    "## “What is the relationship between wealth quintiles  and the percentage of out-of-school students?”\n"
   ]
  },
  {
   "cell_type": "markdown",
   "id": "f9358e26",
   "metadata": {},
   "source": [
    "## “Do children in countries with a lower GDP have a lower primary education attendance rate?”"
   ]
  },
  {
   "cell_type": "markdown",
   "id": "3fbdf00e",
   "metadata": {},
   "source": [
    "## “What is the expected GDP of a country given its primary school completion rate, primary school enrollment rate, primary school completion rate, literacy rate, maths proficiency rate and reading proficiency rate?”\n"
   ]
  },
  {
   "cell_type": "markdown",
   "id": "5350db92",
   "metadata": {},
   "source": [
    "## “Will the literacy rate increase  as the percentage of out-of-school primary education students decreases?”\n"
   ]
  },
  {
   "cell_type": "markdown",
   "id": "2425c8b4",
   "metadata": {},
   "source": [
    "## “How does a country’s GDP affect the percentage of out-of-school primary education students?”\n"
   ]
  },
  {
   "cell_type": "code",
   "execution_count": null,
   "id": "bbff013e",
   "metadata": {},
   "outputs": [],
   "source": []
  }
 ],
 "metadata": {
  "kernelspec": {
   "display_name": "Python 3 (ipykernel)",
   "language": "python",
   "name": "python3"
  },
  "language_info": {
   "codemirror_mode": {
    "name": "ipython",
    "version": 3
   },
   "file_extension": ".py",
   "mimetype": "text/x-python",
   "name": "python",
   "nbconvert_exporter": "python",
   "pygments_lexer": "ipython3",
   "version": "3.9.7"
  }
 },
 "nbformat": 4,
 "nbformat_minor": 5
}
