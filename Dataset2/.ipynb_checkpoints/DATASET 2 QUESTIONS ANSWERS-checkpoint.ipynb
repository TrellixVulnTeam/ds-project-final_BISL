{
 "cells": [
  {
   "cell_type": "code",
   "execution_count": 1,
   "id": "c23221ab",
   "metadata": {},
   "outputs": [],
   "source": [
    "name1: \"Muhammad Haziq Faiz Bin Mohd Ripin\"\n",
    "id1: \"1201302740\""
   ]
  },
  {
   "cell_type": "markdown",
   "id": "d04fd67a",
   "metadata": {},
   "source": [
    "## “Which state has the highest number of colleges and universities per capita?”"
   ]
  },
  {
   "cell_type": "markdown",
   "id": "ec370386",
   "metadata": {},
   "source": [
    "## “What is the relationship between the number of colleges and universities per capita in a state to a state’s median household income?” \n"
   ]
  },
  {
   "cell_type": "markdown",
   "id": "c09b8aa9",
   "metadata": {},
   "source": [
    "## “Do states with lower median household income  have fewer institutions that are categorised as colleges, universities, and professional schools?”\n"
   ]
  },
  {
   "cell_type": "markdown",
   "id": "d9c72eba",
   "metadata": {},
   "source": [
    "## “What is the expected starting salary of a university/college graduate based on their alma mater location, institution type, enrollment number, student/employee ratio and level?”\n"
   ]
  },
  {
   "cell_type": "markdown",
   "id": "8c887595",
   "metadata": {},
   "source": [
    "## “Will the increase in employee/student ratio increase the expected salary of a college/university graduate?”\n"
   ]
  },
  {
   "cell_type": "markdown",
   "id": "bed470a2",
   "metadata": {},
   "source": [
    "## “How does a college/university enrollment number affect its graduate expected salary?”\n"
   ]
  },
  {
   "cell_type": "code",
   "execution_count": null,
   "id": "37e802ae",
   "metadata": {},
   "outputs": [],
   "source": []
  }
 ],
 "metadata": {
  "kernelspec": {
   "display_name": "Python 3 (ipykernel)",
   "language": "python",
   "name": "python3"
  },
  "language_info": {
   "codemirror_mode": {
    "name": "ipython",
    "version": 3
   },
   "file_extension": ".py",
   "mimetype": "text/x-python",
   "name": "python",
   "nbconvert_exporter": "python",
   "pygments_lexer": "ipython3",
   "version": "3.9.7"
  }
 },
 "nbformat": 4,
 "nbformat_minor": 5
}
